{
 "cells": [
  {
   "cell_type": "markdown",
   "id": "9073cf25",
   "metadata": {},
   "source": [
    "# 1 - Gaussian processes and PDEs\n",
    "\n",
    "The objective of this article is to illustrate how solving PDE constrained inverse problems and doing Gaussian process regression are not so different after all (atleast for some priors). \n",
    "To illustrate this connection, we will consider the case of a linear, elliptic, second order partial differential equation.\n",
    "\n",
    "```{admonition} Definition: Second order linear elliptic PDE\n",
    ":class: tip\n",
    "d\n",
    "```\n",
    "\n",
    "```{admonition} Definition: Gaussian process\n",
    ":class: tip\n",
    "d\n",
    "``` \n",
    "\n",
    "```{admonition} Definition: Gaussian process regression\n",
    ":class: tip\n",
    "d\n",
    "```\n",
    "\n",
    "```{admonition} Definition: Source estimation of elliptic PDE\n",
    ":class: tip\n",
    "d\n",
    "``` \n",
    "It is clear from this juxtaposition, that these two problems are the same after all.\n",
    "So, at this point we inquire : How to make this connection explicit?\n",
    "To do so, we will consider the integral representation of the solution to the ellptic PDE.\n",
    "\n",
    "$$u(x) = \\int_{\\Omega} d\\mu(y) \\; K(x,y) \\; a(y). $$\n",
    "Furthermore, assume that the measure $\\mu$ is empirical. That is,\n",
    "\n",
    "$$d\\mu(y) := \\frac{1}{M}\\sum_{i=1}^M \\delta(x-\\hat{\\Omega}_i). $$\n",
    "Then, we can show that the solution to the elliptic PDE is:\n",
    "\n",
    "$$u(x) = \\sum_{i=1}^M \\frac{a(\\hat{\\Omega}_i)}{M} K(x, \\hat{\\Omega}_i).$$\n",
    "Notice that, this is just the RKHS-optimal solution given by the [representer theorem](https://en.wikipedia.org/wiki/Representer_theorem). Notice that the point evaluations of $a$, defined by:\n",
    "\n",
    "$$\n",
    "    a(\\hat{\\Omega}_i) := \\int_{\\Omega} dx \\; a(x) \\; \\delta(x,\\hat{\\Omega}_i), \n",
    "$$\n",
    "have to be estimated by solving a regularized linear least squares problem. Denoting by $A := \\{ \\frac{1}{M}a(\\hat{\\Omega}_i)\\}_{i=1}^M$, this problem is given by \n",
    "\n",
    "$$\n",
    "    A = \\arg \\min_{S \\in \\mathbb{R}^M} \\frac{1}{2}\\| K(\\hat{\\Omega}, \\hat{\\Omega}) S - u(\\hat{\\Omega})\\|_2^2 + \\lambda \\|S\\|_2^2.\n",
    "$$\n",
    "\n",
    "The corresponding solution is known in closed form:\n",
    "\n",
    "$$\n",
    "    A = (K(\\hat{\\Omega}, \\hat{\\Omega}) + \\lambda I)^{-1} u(\\hat{\\Omega}).\n",
    "$$\n",
    "Therefore,\n",
    "\n",
    "$$\n",
    "    u(x) = \\sum_{i=1}^M K(x,\\hat{\\Omega}_i) [(K(\\hat{\\Omega}, \\hat{\\Omega}) + \\lambda I)^{-1} u(\\hat{\\Omega})]_i. \n",
    "$$\n",
    "Notice, that this is equal to the expectation of a conditioned Gaussian process. \n",
    "\n",
    "To make this equivalance stronger, we have to redefine $a$ as an $L^2$ Gaussian random  field. \n",
    "```{admonition} Definition: Gaussian random field\n",
    ":class: tip\n",
    "d\n",
    "```"
   ]
  }
 ],
 "metadata": {
  "jupytext": {
   "formats": "md:myst",
   "text_representation": {
    "extension": ".md",
    "format_name": "myst",
    "format_version": 0.13,
    "jupytext_version": "1.11.5"
   }
  },
  "kernelspec": {
   "display_name": "Python 3",
   "language": "python",
   "name": "python3"
  },
  "language_info": {
   "codemirror_mode": {
    "name": "ipython",
    "version": 3
   },
   "file_extension": ".py",
   "mimetype": "text/x-python",
   "name": "python",
   "nbconvert_exporter": "python",
   "pygments_lexer": "ipython3",
   "version": "3.10.12"
  },
  "source_map": [
   13
  ]
 },
 "nbformat": 4,
 "nbformat_minor": 5
}